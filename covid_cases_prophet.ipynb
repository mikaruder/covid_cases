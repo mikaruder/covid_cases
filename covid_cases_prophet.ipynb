{
 "cells": [
  {
   "cell_type": "code",
   "execution_count": null,
   "metadata": {},
   "outputs": [],
   "source": [
    "%%capture\n",
    "%pip install -r requirements.txt"
   ]
  },
  {
   "cell_type": "markdown",
   "metadata": {},
   "source": [
    "# Global Covid Cases per Week"
   ]
  },
  {
   "cell_type": "code",
   "execution_count": null,
   "metadata": {},
   "outputs": [],
   "source": [
    "from utilities import * "
   ]
  },
  {
   "cell_type": "markdown",
   "metadata": {},
   "source": [
    "## Process and Import Data"
   ]
  },
  {
   "cell_type": "code",
   "execution_count": null,
   "metadata": {},
   "outputs": [],
   "source": [
    "# Use Public Online data \n",
    "\n",
    "url = \"https://catalog.ourworldindata.org/garden/covid/latest/compact/compact.csv\"\n",
    "df = pd.read_csv(url)"
   ]
  },
  {
   "cell_type": "code",
   "execution_count": null,
   "metadata": {},
   "outputs": [],
   "source": [
    "df['date'] = pd.to_datetime(df['date'])\n",
    "df = df[df['date'] < '2023-06-01']\n",
    "df['week_start'] = df['date'] - pd.to_timedelta(df['date'].dt.weekday, unit='D')\n",
    "df.drop(columns = 'date', inplace = True)\n",
    "\n",
    "weekly_df = df.copy()\n",
    "weekly_df = df.groupby(['week_start', 'country']).sum().reset_index()"
   ]
  },
  {
   "cell_type": "code",
   "execution_count": null,
   "metadata": {},
   "outputs": [],
   "source": [
    "## check for missing values\n",
    "weekly_df.isna().sum().sum()"
   ]
  },
  {
   "cell_type": "code",
   "execution_count": null,
   "metadata": {},
   "outputs": [],
   "source": [
    "# Manually Create Variant Data \n",
    "weekly_df['variant'] = 'pre_variant'\n",
    "\n",
    "# Define the variant start dates\n",
    "delta_start = pd.to_datetime('2021-05-01')\n",
    "omicron_start = pd.to_datetime('2021-11-01')\n",
    "\n",
    "# Define the three-month end dates\n",
    "delta_end = delta_start + pd.DateOffset(months=3)\n",
    "omicron_end = omicron_start + pd.DateOffset(months=3)\n",
    "\n",
    "weekly_df.loc[(weekly_df['week_start'] >= delta_start) & (weekly_df['week_start'] < delta_end), 'variant'] = 'delta'\n",
    "weekly_df.loc[(weekly_df['week_start'] >= omicron_start) & (weekly_df['week_start'] < omicron_end), 'variant'] = 'omicron'\n",
    "\n",
    "## one hot encode for modeling down the line \n",
    "weekly_df = pd.get_dummies(weekly_df, columns=['variant'])\n",
    "weekly_df['variant_pre_variant'] = weekly_df['variant_pre_variant'].astype(int)\n",
    "weekly_df['variant_delta'] = weekly_df['variant_delta'].astype(int)\n",
    "weekly_df['variant_omicron'] = weekly_df['variant_omicron'].astype(int)\n"
   ]
  },
  {
   "cell_type": "code",
   "execution_count": null,
   "metadata": {},
   "outputs": [],
   "source": [
    "weekly_df.head()"
   ]
  },
  {
   "cell_type": "markdown",
   "metadata": {},
   "source": [
    "## EDA "
   ]
  },
  {
   "cell_type": "code",
   "execution_count": null,
   "metadata": {},
   "outputs": [],
   "source": [
    "ProfileReport(df, title=\"Profiling Report\")"
   ]
  },
  {
   "cell_type": "code",
   "execution_count": null,
   "metadata": {},
   "outputs": [],
   "source": [
    "plt.xticks(rotation=90) \n",
    "sns.lineplot(x='week_start', y='new_cases', data = weekly_df[weekly_df['country'] == 'United States'], label= 'New Cases')\n",
    "sns.lineplot(x='week_start', y='new_tests', data = weekly_df[weekly_df['country'] == 'United States'], label= 'New Tests')"
   ]
  },
  {
   "cell_type": "code",
   "execution_count": null,
   "metadata": {},
   "outputs": [],
   "source": [
    "sns.lineplot(x='week_start', y='new_cases', data = weekly_df[weekly_df['country'] == 'United States'])\n",
    "sns.lineplot(x='week_start', y='icu_patients', data = weekly_df[weekly_df['country'] == 'United States'])"
   ]
  },
  {
   "cell_type": "markdown",
   "metadata": {},
   "source": [
    "## Proof of Concept Model: US Cases per Week "
   ]
  },
  {
   "cell_type": "code",
   "execution_count": null,
   "metadata": {},
   "outputs": [],
   "source": [
    "## PREP DATA FOR MODELING\n",
    "\n",
    "selected_cols = [\n",
    "    'week_start',\n",
    "    'new_cases',\n",
    "    'new_tests',\n",
    "    'variant_delta',\n",
    "    'variant_omicron', \n",
    "    'variant_pre_variant',\n",
    "    # 'new_deaths',\n",
    "    # 'new_vaccinations',\n",
    "    'icu_patients'\n",
    "]"
   ]
  },
  {
   "cell_type": "code",
   "execution_count": null,
   "metadata": {},
   "outputs": [],
   "source": [
    "us_df = weekly_df[weekly_df['country'] == 'United States'].sort_values('week_start', ascending=True).reset_index(drop=True)"
   ]
  },
  {
   "cell_type": "code",
   "execution_count": null,
   "metadata": {},
   "outputs": [],
   "source": [
    "us_input = us_df[selected_cols].rename(columns={'week_start':'ds', 'new_cases':'y'})"
   ]
  },
  {
   "cell_type": "code",
   "execution_count": null,
   "metadata": {},
   "outputs": [],
   "source": [
    "us_input.head()"
   ]
  },
  {
   "cell_type": "code",
   "execution_count": null,
   "metadata": {},
   "outputs": [],
   "source": [
    "## CREATE LAGS \n",
    "us_input['new_tests_lag_1'] = df['new_tests'].shift(1)  # Lag by 1 week\n",
    "us_input['new_tests_lag_2'] = df['new_tests'].shift(2)  # Lag by 2 weeks\n",
    "\n",
    "us_input['icu_lag_1'] = df['icu_patients'].shift(1)  # Lag by 1 week\n",
    "us_input['icu_lag_2'] = df['icu_patients'].shift(2)  # Lag by 2 weeks"
   ]
  },
  {
   "cell_type": "code",
   "execution_count": null,
   "metadata": {},
   "outputs": [],
   "source": [
    "us_input = us_input.fillna(0)\n",
    "us_input.head()"
   ]
  },
  {
   "cell_type": "code",
   "execution_count": null,
   "metadata": {},
   "outputs": [],
   "source": [
    "us_input[us_input['ds']].ds.unique()"
   ]
  },
  {
   "cell_type": "code",
   "execution_count": null,
   "metadata": {},
   "outputs": [],
   "source": [
    "## SPLIT DATA \n",
    "training_data = us_input[us_input['ds'] <= '2023-04-01'].reset_index(drop=True)\n",
    "validation_data = us_input[us_input['ds'] > '2023-04-01'].reset_index(drop=True)"
   ]
  },
  {
   "cell_type": "code",
   "execution_count": null,
   "metadata": {},
   "outputs": [],
   "source": [
    "## CREATE MODEL \n",
    "\n",
    "holiday_df = pd.DataFrame.from_dict(holidays.country_holidays('US', years= range(2020,2024)), orient='index').reset_index() \\\n",
    "    .rename({'index':'ds', 0:'holiday'}, axis='columns')\n",
    "\n",
    "change_points = ['2021-11-15', '2022-01-10']\n",
    "model = Prophet(holidays= holiday_df,\n",
    "                changepoints = change_points,\n",
    "    yearly_seasonality= True,\n",
    "    weekly_seasonality = False,\n",
    "    daily_seasonality=False)\n",
    "\n",
    "\n",
    "# add regressor\n",
    "model.add_regressor('new_tests')\n",
    "model.add_regressor('new_tests_lag_1')\n",
    "model.add_regressor('new_tests_lag_2')\n",
    "model.add_regressor('icu_patients')\n",
    "model.add_regressor('icu_lag_1')\n",
    "model.add_regressor('icu_lag_2')\n",
    "model.add_regressor('variant_pre_variant')\n",
    "model.add_regressor('variant_omicron')\n",
    "model.add_regressor('variant_delta')\n",
    "\n",
    "model.fit(training_data)"
   ]
  },
  {
   "cell_type": "code",
   "execution_count": null,
   "metadata": {},
   "outputs": [],
   "source": [
    "## CREATE PREDCITONS AND GET MODEL PEROFORMANCE \n",
    "fig, ax = plt.subplots(figsize=(8, 5)) \n",
    "train_predict = model.predict(training_data)\n",
    "plt.xticks(rotation=90)\n",
    "\n",
    "mape = calculate_mape(training_data['y'], train_predict['yhat'])\n",
    "print('Training MAPE:', mape, '%')\n",
    "sns.lineplot(x='ds', y='y', data=training_data)\n",
    "sns.lineplot(x='ds', y='yhat', data=train_predict)"
   ]
  },
  {
   "cell_type": "code",
   "execution_count": null,
   "metadata": {},
   "outputs": [],
   "source": [
    "validation_predict = model.predict(validation_data)\n",
    "model_mape = calculate_mape(validation_data['y'], validation_predict['yhat'])\n",
    "\n",
    "print('Performance Metrics')\n",
    "print('------------------------')\n",
    "print('Model MAPE:', model_mape, '%')\n",
    "\n",
    "## Benchmark Metric \n",
    "validation_data['benchmark'] = np.mean(training_data['y'])\n",
    "plt.xticks(rotation=90)\n",
    "sns.lineplot(x='ds', y='y', data=validation_data, label= 'Actual')\n",
    "sns.lineplot(x='ds', y='yhat', data=validation_predict, label='Prediction')"
   ]
  }
 ],
 "metadata": {
  "kernelspec": {
   "display_name": "Python 3",
   "language": "python",
   "name": "python3"
  },
  "language_info": {
   "codemirror_mode": {
    "name": "ipython",
    "version": 3
   },
   "file_extension": ".py",
   "mimetype": "text/x-python",
   "name": "python",
   "nbconvert_exporter": "python",
   "pygments_lexer": "ipython3",
   "version": "3.9.6"
  }
 },
 "nbformat": 4,
 "nbformat_minor": 2
}
